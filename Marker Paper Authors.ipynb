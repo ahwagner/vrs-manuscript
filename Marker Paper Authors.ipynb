{
 "cells": [
  {
   "cell_type": "code",
   "execution_count": 1,
   "id": "universal-client",
   "metadata": {},
   "outputs": [],
   "source": [
    "author_string = \"\"\"Heidi L. Rehm1,2, Angela J.H. Page1,3, Lindsay Smith4,3, Jeremy B. Adams4,3, Gil Alterovitz5, Lawrence J. Babb1, Maxmillian P. Barkley6, Michael Baudis7,8, Michael J.S. Beauvais9,3, Tim Beck10, Jacques S. Beckmann11, Sergi Beltran12,13,14, David Bernick1, Alexander Bernier9, James K. Bonfield15, Tiffany F. Boughtwood16,17, Guillaume Bourque9,18, Sarion R. Bowers15, Anthony J. Brookes10, Michael Brudno18,19,20,21,39, Matthew H. Brush22, David Bujold9,18,39, Tony Burdett23, Orion J. Buske24, Moran N. Cabili1, Daniel L. Cameron25,26, Robert J. Carroll27, Esmeralda Casas-Silva125, Debyani Chakravarty30, Bimal P. Chaudhari31,32, Shu Hui Chen33, J. Michael Cherry34, Justina Chung4,3, Melissa Cline35, Hayley L. Clissold15, Robert M. Cook-Deegan36, Mélanie Courtot23, Fiona Cunningham23,  Miro Cupak6, Robert M. Davies15, Danielle Denisko19, Megan J. Doerr37, Lena I. Dolman19, Edward S. Dove38, L. Jonathan Dursi20,39, Stephanie O.M. Dyke9, James A. Eddy37, Karen Eilbeck40, Kyle P. Ellrott22, Susan Fairley23,3, Khalid A. Fakhro41,42, Helen V. Firth43,15, Michael S. Fitzsimons44, Marc Fiume6, Paul Flicek23, Ian M. Fore29, Mallory A. Freeberg23, Robert R. Freimuth45, Lauren A. Fromont52, Jonathan Fuerth6, Clara L. Gaff16,17, Weiniu Gan33, Elena M. Ghanaim46, David Glazer47, Robert C. Green48,1,49, Malachi Griffith50, Obi L. Griffith50, Robert L. Grossman44, Tudor Groza51, Jaime M. Guidry Auvil29, Roderic Guigó52,13, Dipayan Gupta23, Melissa A. Haendel53, Ada Hamosh54, David P. Hansen83,16, Reece K. Hart124,1,100, Dean Mitchell Hartley55, David Haussler35, Rachele M. Hendricks-Sturrup56, Calvin W.L. Ho57, Ashley E. Hobb6, Michael M. Hoffman19,20,21, Oliver M. Hofmann26, Petr Holub58,59, Jacob Shujui Hsu60, Jean-Pierre Hubaux61, Sarah E. Hunt23, Ammar Husami62, Julius O. Jacobsen63, Saumya S. Jamuar64,65, Elizabeth L. Janes66,3, Francis Jeanson126, Aina Jené52, Amber L. Johns67,68, Yann Joly9, Steven J.M. Jones69, Alexander Kanitz70,8, Kazuto Kato71, Thomas M. Keane23,72, Kristina Kekesi-Lafrance9,3, Jerome Kelleher73, Giselle Kerry23, Seik-Soon Khor74,75, Bartha M. Knoppers9, Melissa A. Konopko76, Kenjiro Kosaki77, Martin Kuba59, Jonathan Lawson1, Rasko Leinonen23, Stephanie Li1,3, Michael F. Lin78, Mikael Linden79,80, Xianglin Liu66, Isuru Udara Liyanage23, Javier Lopez101, Anneke M. Lucassen81, Michael Lukowski44, Alice L. Mann15,3, John Marshall68, Michele Mattioni82, Alejandro Metke-Jimenez83, Anna Middleton84,85, Richard J. Milne84,85, Fruzsina Molnar-Gabor86, Nicola Mulder87, Monica C. Munoz-Torres53, Rishi Nag23, Hidewaki Nakagawa88,89, Jamal Nasir90, Arcadi Navarro91,92,52,93, Tristan H. Nelson94, Ania Niewielska23, Amy Nisselle95,17,26, Jeffrey Niu20, Tommi H. Nyrönen79,80, Brian D. O'Connor1, Sabine Oesterle8, Soichi Ogishima96, Laura A.D. Paglione97,98, Emilio Palumbo52,13, Helen E. Parkinson23, Anthony A. Philippakis1, Angel D. Pizarro99, Andreas Prlic100, Jordi Rambla52,13, Augusto Rendon101, Renee A. Rider46, Peter N. Robinson102,103, Kurt W. Rodarmer,104, Laura Lyman Rodriguez105, Alan F. Rubin25,26, Manuel Rueda52, Gregory A. Rushton1, Rosalyn S. Ryan106, Gary I. Saunders76, Helen Schuilenburg23, Torsten Schwede70,8, Serena Scollen76, Alexander Senf107, Nathan C. Sheffield108, Neerjah Skantharajah4,3, Albert V. Smith109, Heidi J. Sofia46, Dylan Spalding79,80, Amanda B. Spurdle110, Zornitza Stark16,17,26, Lincoln D. Stein4,19, Makoto Suematsu77, Patrick Tan64,111,112, Jonathan A. Tedds76, Alastair A. Thomson33, Adrian Thorogood9,113, Timothy L. Tickle1, Katsushi Tokunaga114,75, Juha Törnroos79,80, David Torrents116,92, Sean Upchurch115, Alfonso Valencia116,92, Roman Valls Guimera26, Jessica Vamathevan23, Susheel Varma117,23, Danya F. Vears95,17,26,118, Coby Viner19,20, Craig Voisin119, Alex H. Wagner31,32, Susan E. Wallace10, Brian P. Walsh22, Vivian Ota Wang29, Marc S. Williams94, Eva C. Winkler120, Barbara J. Wold115, Grant M. Wood, J. Patrick Woolley73, Chisato Yamasaki71, Andrew D. Yates23, Christina K. Yung4,121, Lyndon J. Zass87, Ksenia Zaytseva9,122, Junjun Zhang4, Peter Goodhand4,3, Kathryn North17,26, Ewan Birney23,123\"\"\""
   ]
  },
  {
   "cell_type": "code",
   "execution_count": null,
   "id": "medical-heaven",
   "metadata": {},
   "outputs": [],
   "source": [
    "author_re = re.compile(r'(?<author_first>\\w+) (?<)')"
   ]
  }
 ],
 "metadata": {
  "kernelspec": {
   "display_name": "Python 3",
   "language": "python",
   "name": "python3"
  },
  "language_info": {
   "codemirror_mode": {
    "name": "ipython",
    "version": 3
   },
   "file_extension": ".py",
   "mimetype": "text/x-python",
   "name": "python",
   "nbconvert_exporter": "python",
   "pygments_lexer": "ipython3",
   "version": "3.9.4"
  }
 },
 "nbformat": 4,
 "nbformat_minor": 5
}
