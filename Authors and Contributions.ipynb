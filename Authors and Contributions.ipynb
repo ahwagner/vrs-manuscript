{
 "cells": [
  {
   "cell_type": "code",
   "execution_count": 15,
   "id": "infectious-peeing",
   "metadata": {},
   "outputs": [],
   "source": [
    "import csv"
   ]
  },
  {
   "cell_type": "code",
   "execution_count": 2,
   "id": "careful-ladder",
   "metadata": {},
   "outputs": [],
   "source": [
    "with open('VRS Authors - Sheet1.tsv', 'r') as f:\n",
    "    dictreader = csv.DictReader(f, delimiter='\\t')\n",
    "    authors = list()\n",
    "    contributors = list()\n",
    "    for record in dictreader:\n",
    "        if record['Include?'] in ['Author', 'Acknowledgements']:\n",
    "            affiliations = {x.strip() for x in record['Merged Affiliation'].split(';')}\n",
    "            record['affiliations'] = affiliations\n",
    "            name = record['Author, as printed']\n",
    "            components = [x.strip() for x in name.split(',')]\n",
    "            record['normname'] = ' '.join(components[::-1])\n",
    "            if record['Include?'] == 'Author':\n",
    "                authors.append(record)\n",
    "            contributors.append(record)"
   ]
  },
  {
   "cell_type": "code",
   "execution_count": 3,
   "id": "exotic-investor",
   "metadata": {},
   "outputs": [],
   "source": [
    "affiliations = set()\n",
    "for author in authors:\n",
    "    affiliations |= author['affiliations']"
   ]
  },
  {
   "cell_type": "code",
   "execution_count": 4,
   "id": "spoken-nigeria",
   "metadata": {},
   "outputs": [
    {
     "data": {
      "text/plain": [
       "{'Baylor College of Medicine, Houston, TX 77030, USA',\n",
       " 'Bioinformatics Division, Walter and Eliza Hall Institute of Medical Research, Melbourne, Australia',\n",
       " 'Center for Genomic Medicine, Massachusetts General Hospital, Cambridge, MA 02142, USA',\n",
       " 'Department of Artificial Intelligence and Informatics, Mayo Clinic, Rochester, MN 55905, USA',\n",
       " 'Department of Biomedical Informatics, Harvard Medical School, Boston MA 02115, USA',\n",
       " 'Department of Medical Biology, University of Melbourne, Melbourne, Australia',\n",
       " \"Department of Medicine, Brigham and Women's Hospital, Boston, MA 02115, USA\",\n",
       " 'Department of Pediatrics, The Ohio State University College of Medicine, Columbus, OH 43210, USA',\n",
       " 'Essex Management LLC and National Cancer Institute, Rockville, MD 20850, USA',\n",
       " 'European Molecular Biology Laboratory, European Bioinformatics Institute, Wellcome Genome Campus, Hinxton, Cambridge, CB10 1SD, United Kingdom',\n",
       " 'Genomics England, London EC1M 6BQ, UK',\n",
       " 'Gesinger Health, Danville, PA 17822, USA',\n",
       " 'Harvard Medical School, Boston, MA 02115, USA',\n",
       " 'Jackson Laboratory for Genomic Medicine, Farmington, CT 06032, USA',\n",
       " 'Medical and Population Genetics, Broad Institute of MIT and Harvard, Cambridge, MA 02142, USA',\n",
       " 'MyOme, Inc., San Carlos, CA 94070, USA',\n",
       " 'National Center for Biotechnology Information, National Library of Medicine National Institutes of Health, Bethesda, MD 20894, USA',\n",
       " 'Oregon Health & Science University, Portland, OR 97239, USA',\n",
       " 'The Global Alliance for Genomics and Health, Toronto, Ontario, Canada',\n",
       " \"The Steve and Cindy Rasmussen Institute for Genomic Medicine, Nationwide Children's Hospital, Columbus, OH 43215, USA\",\n",
       " 'UC Santa Cruz Genomics Institute, Santa Cruz, CA 95060, USA',\n",
       " 'University of Zurich and Swiss Institute of Bioinformatics, Zurich, Switzerland',\n",
       " 'Utah Center for Genetic Discovery, University of Utah, Salt Lake City, UT 84112, USA',\n",
       " 'Washington University School of Medicine, St. Louis, MO 63108, USA'}"
      ]
     },
     "execution_count": 4,
     "metadata": {},
     "output_type": "execute_result"
    }
   ],
   "source": [
    "affiliations"
   ]
  },
  {
   "cell_type": "code",
   "execution_count": 5,
   "id": "stock-fleece",
   "metadata": {},
   "outputs": [],
   "source": [
    "affiliation_dict = dict()\n",
    "pointer = 1\n",
    "out_string = ''\n",
    "affiliation_list = list()\n",
    "for author in authors:\n",
    "    out_string += ', '\n",
    "    out_string += author['normname']\n",
    "    indexed_affiliations = dict()\n",
    "    for affiliation in author['affiliations']:\n",
    "        if affiliation in affiliation_dict:\n",
    "            indexed_affiliations[affiliation_dict[affiliation]] = affiliation\n",
    "        else:\n",
    "            affiliation_dict[affiliation] = pointer\n",
    "            indexed_affiliations[pointer] = affiliation\n",
    "            pointer += 1\n",
    "            affiliation_list.append(affiliation)\n",
    "    out_string += ','.join([str(x) for x in sorted(indexed_affiliations.keys())])\n",
    "\n",
    "out_string = out_string[2:]"
   ]
  },
  {
   "cell_type": "code",
   "execution_count": 6,
   "id": "ancient-commons",
   "metadata": {},
   "outputs": [
    {
     "data": {
      "text/plain": [
       "'Alex H Wagner1,2, Lawrence Babb3, Gil Alterovitz4,5, Michael Baudis6, Matthew Brush7, Daniel L Cameron8,9, Melissa Cline10, Malachi Griffith11, Obi Lee Griffith11, Sarah E Hunt12, David Kreda13, Jennifer M Lee14, Stephanie Li15, Javier Lopez16, Eric Moyer17, Tristan Nelson18, Ronak Y Patel19, Kevin Riehle19, Peter N Robinson20, Shawn Rynearson21, Helen Schuilenburg12, Kirill Tsukanov12, Brian Walsh7, Melissa Konopko15, Heidi L Rehm3,22, Andrew D Yates12, Robert R Freimuth23, Reece K Hart3,24'"
      ]
     },
     "execution_count": 6,
     "metadata": {},
     "output_type": "execute_result"
    }
   ],
   "source": [
    "out_string"
   ]
  },
  {
   "cell_type": "code",
   "execution_count": 7,
   "id": "documentary-street",
   "metadata": {},
   "outputs": [
    {
     "name": "stdout",
     "output_type": "stream",
     "text": [
      "1The Steve and Cindy Rasmussen Institute for Genomic Medicine, Nationwide Children's Hospital, Columbus, OH 43215, USA\n",
      "2Department of Pediatrics, The Ohio State University College of Medicine, Columbus, OH 43210, USA\n",
      "3Medical and Population Genetics, Broad Institute of MIT and Harvard, Cambridge, MA 02142, USA\n",
      "4Harvard Medical School, Boston, MA 02115, USA\n",
      "5Department of Medicine, Brigham and Women's Hospital, Boston, MA 02115, USA\n",
      "6University of Zurich and Swiss Institute of Bioinformatics, Zurich, Switzerland\n",
      "7Oregon Health & Science University, Portland, OR 97239, USA\n",
      "8Bioinformatics Division, Walter and Eliza Hall Institute of Medical Research, Melbourne, Australia\n",
      "9Department of Medical Biology, University of Melbourne, Melbourne, Australia\n",
      "10UC Santa Cruz Genomics Institute, Santa Cruz, CA 95060, USA\n",
      "11Washington University School of Medicine, St. Louis, MO 63108, USA\n",
      "12European Molecular Biology Laboratory, European Bioinformatics Institute, Wellcome Genome Campus, Hinxton, Cambridge, CB10 1SD, United Kingdom\n",
      "13Department of Biomedical Informatics, Harvard Medical School, Boston MA 02115, USA\n",
      "14Essex Management LLC and National Cancer Institute, Rockville, MD 20850, USA\n",
      "15The Global Alliance for Genomics and Health, Toronto, Ontario, Canada\n",
      "16Genomics England, London EC1M 6BQ, UK\n",
      "17National Center for Biotechnology Information, National Library of Medicine National Institutes of Health, Bethesda, MD 20894, USA\n",
      "18Gesinger Health, Danville, PA 17822, USA\n",
      "19Baylor College of Medicine, Houston, TX 77030, USA\n",
      "20Jackson Laboratory for Genomic Medicine, Farmington, CT 06032, USA\n",
      "21Utah Center for Genetic Discovery, University of Utah, Salt Lake City, UT 84112, USA\n",
      "22Center for Genomic Medicine, Massachusetts General Hospital, Cambridge, MA 02142, USA\n",
      "23Department of Artificial Intelligence and Informatics, Mayo Clinic, Rochester, MN 55905, USA\n",
      "24MyOme, Inc., San Carlos, CA 94070, USA\n"
     ]
    }
   ],
   "source": [
    "pointer = 1\n",
    "for affiliation in affiliation_list:\n",
    "    print(f\"{pointer}{affiliation}\")\n",
    "    pointer += 1"
   ]
  },
  {
   "cell_type": "code",
   "execution_count": 8,
   "id": "bronze-comment",
   "metadata": {},
   "outputs": [],
   "source": [
    "from collections import Counter\n",
    "c = Counter([author['Initials'] for author in authors])"
   ]
  },
  {
   "cell_type": "code",
   "execution_count": 9,
   "id": "awful-rebecca",
   "metadata": {},
   "outputs": [
    {
     "data": {
      "text/plain": [
       "Counter({'AHW': 1,\n",
       "         'LB': 1,\n",
       "         'GA': 1,\n",
       "         'MB': 2,\n",
       "         'DLC': 1,\n",
       "         'MC': 1,\n",
       "         'MG': 1,\n",
       "         'OLG': 1,\n",
       "         'SEH': 1,\n",
       "         'DK': 1,\n",
       "         'JML': 1,\n",
       "         'SL': 1,\n",
       "         'JL': 1,\n",
       "         'EM': 1,\n",
       "         'TN': 1,\n",
       "         'RYP': 1,\n",
       "         'KR': 1,\n",
       "         'PNR': 1,\n",
       "         'SR': 1,\n",
       "         'HS': 1,\n",
       "         'KT': 1,\n",
       "         'BW': 1,\n",
       "         'MK': 1,\n",
       "         'HLR': 1,\n",
       "         'ADY': 1,\n",
       "         'RRF': 1,\n",
       "         'RKH': 1})"
      ]
     },
     "execution_count": 9,
     "metadata": {},
     "output_type": "execute_result"
    }
   ],
   "source": [
    "c"
   ]
  },
  {
   "cell_type": "code",
   "execution_count": 10,
   "id": "tropical-highland",
   "metadata": {},
   "outputs": [],
   "source": [
    "authors[3]['Initials'] = 'MiB'\n",
    "authors[4]['Initials'] = 'MaB'"
   ]
  },
  {
   "cell_type": "code",
   "execution_count": 11,
   "id": "spare-colonial",
   "metadata": {},
   "outputs": [
    {
     "data": {
      "text/plain": [
       "dict_keys(['Author, as printed', 'Order', 'Include?', 'Conceptualization', 'Methodology', 'Software', 'Validation', 'Formal analysis', 'Investigation', 'Resources', 'Data Curation', 'Writing - Original Draft', 'Writing - Review & Editing', 'Visualization', 'Supervision', 'Project administration', 'Funding acquisition', 'Affiliation', 'Address', 'Merged Affiliation', 'Email', 'Funding', 'ORCID', 'Comments', 'Role in VRS (edit if I got wrong!)', 'Initials', 'Funding statement', 'affiliations', 'normname'])"
      ]
     },
     "execution_count": 11,
     "metadata": {},
     "output_type": "execute_result"
    }
   ],
   "source": [
    "authors[0].keys()"
   ]
  },
  {
   "cell_type": "code",
   "execution_count": 13,
   "id": "monthly-liberal",
   "metadata": {},
   "outputs": [],
   "source": [
    "credits = ['Conceptualization', 'Methodology', 'Software', 'Validation', 'Formal analysis', 'Investigation', \n",
    "           'Resources', 'Data Curation', 'Writing - Original Draft', 'Writing - Review & Editing', 'Visualization', \n",
    "           'Supervision', 'Project administration', 'Funding acquisition']"
   ]
  },
  {
   "cell_type": "code",
   "execution_count": 14,
   "id": "structured-worse",
   "metadata": {},
   "outputs": [
    {
     "name": "stdout",
     "output_type": "stream",
     "text": [
      "AHW, LB, GA, MiB, MaB, DLC, MC, OLG, SEH, DK, JML, JL, EM, TN, RYP, KR, SR, HS, KT, ADY, RRF, and RKH contributed to Conceptualization. AHW, LB, GA, DLC, JML, TN, SR, KT, RRF, and RKH contributed to Methodology. AHW, LB, MC, EM, TN, RYP, KR, SR, BW, and RKH contributed to Software. RYP, KR, BW, and RKH contributed to Validation. AHW, LB, DLC, and RKH contributed to Formal analysis. AHW, LB, GA, EM, TN, RRF, and RKH contributed to Investigation. AHW, LB, GA, MiB, MC, RYP, and KR contributed to Resources. AHW, LB, MiB, and RKH contributed to Data Curation. AHW and RKH contributed to Writing - Original Draft. AHW, LB, GA, MiB, MaB, MC, MG, OLG, SEH, DK, JML, SL, JL, EM, TN, KR, PNR, HS, KT, MK, HLR, ADY, RRF, and RKH contributed to Writing - Review & Editing. AHW, LB, SL, RRF, and RKH contributed to Visualization. LB, MiB, MG, OLG, MK, HLR, ADY, RRF, and RKH contributed to Supervision. AHW, LB, MiB, MK, HLR, ADY, RRF, and RKH contributed to Project administration. AHW, LB, OLG, HLR, ADY, RRF, and RKH contributed to Funding acquisition.\n"
     ]
    }
   ],
   "source": [
    "credit_statements = list()\n",
    "for credit in credits:\n",
    "    credit_authors = [author['Initials'] for author in authors if author[credit] == 'TRUE']\n",
    "    if len(credit_authors) == 1:\n",
    "        credit_str = f\"{credit_authors[0]} contributed to {credit}.\"\n",
    "    elif len(credit_authors) == 2:\n",
    "        credit_str = f\"{credit_authors[0]} and {credit_authors[1]} contributed to {credit}.\"\n",
    "    elif len(credit_authors) > 2:\n",
    "        credit_str = f\"{', '.join(credit_authors[:-1])}, and {credit_authors[-1]} contributed to {credit}.\"\n",
    "    credit_statements.append(credit_str)\n",
    "print(' '.join(credit_statements))"
   ]
  },
  {
   "cell_type": "markdown",
   "id": "upset-transport",
   "metadata": {},
   "source": [
    "## For bioRxiv"
   ]
  },
  {
   "cell_type": "code",
   "execution_count": 17,
   "id": "attached-alarm",
   "metadata": {},
   "outputs": [],
   "source": [
    "header = ['Email', 'Institution', 'First Name', 'Middle Name(s)/Initial(s)', \n",
    "          'Last Name', 'Suffix', 'Corresponding Author', 'Home Page URL', \n",
    "          'Collaborative Group/Consortium', 'ORCiD']\n",
    "with open('biorxiv_authors.tsv', 'w') as f:\n",
    "    writer = csv.DictWriter(f, header, delimiter='\\t')\n",
    "    writer.writeheader()\n",
    "    for author in authors:\n",
    "        record = dict()\n",
    "        record['Email'] = author['Email']\n",
    "        record['Institution'] = author['Merged Affiliation']\n",
    "        name_components = author['normname'].split(' ')\n",
    "        record['First Name'] = name_components[0]\n",
    "        record['Middle Name(s)/Initial(s)'] = ' '.join(name_components[1:-1])\n",
    "        record['Last Name'] = name_components[-1]\n",
    "        if author['normname'] == 'Alex H Wagner':\n",
    "            record['Corresponding Author'] = 'True'\n",
    "        record['ORCiD'] = author['ORCID']\n",
    "        writer.writerow(record)\n",
    "    "
   ]
  },
  {
   "cell_type": "code",
   "execution_count": 18,
   "id": "ranging-mobile",
   "metadata": {},
   "outputs": [
    {
     "data": {
      "text/plain": [
       "{'Author, as printed': 'Wagner, Alex H',\n",
       " 'Order': '1',\n",
       " 'Include?': 'Author',\n",
       " 'Conceptualization': 'TRUE',\n",
       " 'Methodology': 'TRUE',\n",
       " 'Software': 'TRUE',\n",
       " 'Validation': 'FALSE',\n",
       " 'Formal analysis': 'TRUE',\n",
       " 'Investigation': 'TRUE',\n",
       " 'Resources': 'TRUE',\n",
       " 'Data Curation': 'TRUE',\n",
       " 'Writing - Original Draft': 'TRUE',\n",
       " 'Writing - Review & Editing': 'TRUE',\n",
       " 'Visualization': 'TRUE',\n",
       " 'Supervision': 'FALSE',\n",
       " 'Project administration': 'TRUE',\n",
       " 'Funding acquisition': 'TRUE',\n",
       " 'Affiliation': \"The Steve and Cindy Rasmussen Institute for Genomic Medicine, Nationwide Children's Hospital, Columbus, OH 43215, USA Department of Pediatrics, The Ohio State University College of Medicine, Columbus, OH 43210, USA\",\n",
       " 'Address': '<see affiliations>',\n",
       " 'Merged Affiliation': \"The Steve and Cindy Rasmussen Institute for Genomic Medicine, Nationwide Children's Hospital, Columbus, OH 43215, USA; Department of Pediatrics, The Ohio State University College of Medicine, Columbus, OH 43210, USA\",\n",
       " 'Email': 'Alex.Wagner@nationwidechildrens.org',\n",
       " 'Funding': 'K99HG010157 U24CA237719',\n",
       " 'ORCID': '0000-0002-2502-8961',\n",
       " 'Comments': '🎉',\n",
       " 'Role in VRS (edit if I got wrong!)': 'VR co-lead, significant contributor to concept, schema, code; driver project adopter, paper primary author',\n",
       " 'Initials': 'AHW',\n",
       " 'Funding statement': 'AHW was supported by K99HG010157 and U24CA237719. ',\n",
       " 'affiliations': {'Department of Pediatrics, The Ohio State University College of Medicine, Columbus, OH 43210, USA',\n",
       "  \"The Steve and Cindy Rasmussen Institute for Genomic Medicine, Nationwide Children's Hospital, Columbus, OH 43215, USA\"},\n",
       " 'normname': 'Alex H Wagner'}"
      ]
     },
     "execution_count": 18,
     "metadata": {},
     "output_type": "execute_result"
    }
   ],
   "source": [
    "authors[0]"
   ]
  },
  {
   "cell_type": "markdown",
   "id": "simplified-terminal",
   "metadata": {},
   "source": [
    "## For contributors doc"
   ]
  },
  {
   "cell_type": "code",
   "execution_count": 19,
   "id": "micro-dragon",
   "metadata": {},
   "outputs": [],
   "source": [
    "affiliations = set()\n",
    "for contributor in contributors:\n",
    "    affiliations |= contributor['affiliations']\n",
    "    if '' in contributor['affiliations']:\n",
    "        print(contributor['Author, as printed'])"
   ]
  },
  {
   "cell_type": "code",
   "execution_count": 20,
   "id": "involved-negative",
   "metadata": {},
   "outputs": [
    {
     "data": {
      "text/plain": [
       "{'Baylor College of Medicine, Houston, TX 77030, USA',\n",
       " 'Bioinformatics Division, Walter and Eliza Hall Institute of Medical Research, Melbourne, Australia',\n",
       " 'Center for Genomic Medicine, Massachusetts General Hospital, Cambridge, MA 02142, USA',\n",
       " 'Center for Individualized Medicine, Division of Digital Health Sciences, Mayo Clinic, Rochester, MN 55905, USA',\n",
       " 'Department of Biomedical Informatics, Harvard Medical School, Boston MA 02115, USA',\n",
       " 'Department of Human Genetics, University of Utah, Salt Lake City, UT 84112, USA',\n",
       " 'Department of Medical Biology, University of Melbourne, Melbourne, Australia',\n",
       " \"Department of Medicine, Brigham and Women's Hospital, Boston, MA 02115, USA\",\n",
       " 'Department of Pediatrics, The Ohio State University College of Medicine, Columbus, OH 43210, USA',\n",
       " 'Essex Management LLC and National Cancer Institute, Rockville, MD 20850, USA',\n",
       " 'European Molecular Biology Laboratory, European Bioinformatics Institute, Wellcome Genome Campus, Hinxton, Cambridge, CB10 1SD, United Kingdom',\n",
       " 'Genomics England, London EC1M 6BQ, UK',\n",
       " 'Gesinger Health, Danville, PA 17822, USA',\n",
       " 'Harvard Medical School, Boston, MA 02115, USA',\n",
       " 'Jackson Laboratory for Genomic Medicine, Farmington, CT 06032, USA',\n",
       " 'Medical and Population Genetics, Broad Institute of MIT and Harvard, Cambridge, MA 02142, USA',\n",
       " 'MyOme, Inc., San Carlos, CA 94070, USA',\n",
       " 'National Center for Biotechnology Information, National Library of Medicine National Institutes of Health, Bethesda, MD 20894, USA',\n",
       " 'Oregon Health & Science University, Portland, OR 97239, USA',\n",
       " 'Renaissance Computing Institute, Chapel Hill, North Carolina 27517, USA',\n",
       " 'The Global Alliance for Genomics and Health, Toronto, Ontario, Canada',\n",
       " \"The Steve and Cindy Rasmussen Institute for Genomic Medicine, Nationwide Children's Hospital, Columbus, OH 43215, USA\",\n",
       " 'UC Santa Cruz Genomics Institute, Santa Cruz, CA 95060, USA',\n",
       " 'University of Zurich and Swiss Institute of Bioinformatics, Zurich, Switzerland',\n",
       " 'Utah Center for Genetic Discovery, University of Utah, Salt Lake City, UT 84112, USA',\n",
       " 'Washington University School of Medicine, St. Louis, MO 63108, USA'}"
      ]
     },
     "execution_count": 20,
     "metadata": {},
     "output_type": "execute_result"
    }
   ],
   "source": [
    "affiliations"
   ]
  },
  {
   "cell_type": "code",
   "execution_count": 21,
   "id": "intelligent-cooperation",
   "metadata": {},
   "outputs": [],
   "source": [
    "contributors_reorder = [contributors[-1]] + contributors[:2]\n",
    "contributors_reorder += sorted(contributors[2:-1], key=lambda x: x['Author, as printed'])\n",
    "\n",
    "affiliation_dict = dict()\n",
    "pointer = 1\n",
    "out_string = ''\n",
    "affiliation_list = list()\n",
    "for contributor in contributors_reorder:\n",
    "    out_string += '\\n'\n",
    "    out_string += '|' + contributor['normname']\n",
    "    indexed_affiliations = dict()\n",
    "    for affiliation in contributor['affiliations']:\n",
    "        if affiliation in affiliation_dict:\n",
    "            indexed_affiliations[affiliation_dict[affiliation]] = affiliation\n",
    "        else:\n",
    "            affiliation_dict[affiliation] = pointer\n",
    "            indexed_affiliations[pointer] = affiliation\n",
    "            pointer += 1\n",
    "            affiliation_list.append(affiliation)\n",
    "    refs = ''.join([f'[[{str(x)}](#{str(x)})]' for x in sorted(indexed_affiliations.keys())])\n",
    "    out_string += f' | {refs} |'\n",
    "\n",
    "out_string = out_string[1:]"
   ]
  },
  {
   "cell_type": "code",
   "execution_count": 22,
   "id": "declared-surveillance",
   "metadata": {},
   "outputs": [],
   "source": [
    "header = \"\"\"|Name             | Affiliation |\n",
    "|-----------------| --------|\n",
    "\"\"\""
   ]
  },
  {
   "cell_type": "code",
   "execution_count": 23,
   "id": "infrared-reward",
   "metadata": {},
   "outputs": [],
   "source": [
    "with open('/Users/ahw001/git/vrs/CONTRIBUTORS.md', 'r') as f, \\\n",
    "     open('/Users/ahw001/git/vrs/CONTRIBUTORS.revised.md', 'w') as f2:\n",
    "    inserted = False\n",
    "    for line in f:\n",
    "        if line.startswith('|'):\n",
    "            if not inserted:\n",
    "                f2.write(header + out_string)\n",
    "                inserted = True\n",
    "            continue\n",
    "        f2.write(line)\n",
    "    pointer = 1\n",
    "    for affiliation in affiliation_list:\n",
    "        f2.write(f'## {pointer}\\n')\n",
    "        f2.write(affiliation + '\\n')\n",
    "        pointer += 1"
   ]
  },
  {
   "cell_type": "code",
   "execution_count": null,
   "id": "sonic-cycling",
   "metadata": {},
   "outputs": [],
   "source": []
  }
 ],
 "metadata": {
  "kernelspec": {
   "display_name": "Python 3",
   "language": "python",
   "name": "python3"
  },
  "language_info": {
   "codemirror_mode": {
    "name": "ipython",
    "version": 3
   },
   "file_extension": ".py",
   "mimetype": "text/x-python",
   "name": "python",
   "nbconvert_exporter": "python",
   "pygments_lexer": "ipython3",
   "version": "3.9.2"
  }
 },
 "nbformat": 4,
 "nbformat_minor": 5
}
